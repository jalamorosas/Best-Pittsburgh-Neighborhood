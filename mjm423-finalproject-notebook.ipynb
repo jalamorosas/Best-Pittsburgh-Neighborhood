{
 "cells": [
  {
   "cell_type": "markdown",
   "metadata": {},
   "source": [
    "## Introduction\n",
    "\n",
    "In our project, we are trying to find the best neighborhood in Pittsburgh. We decided to rank neighborhoods by how good they are for biking. We chose different metrics relating to biking in Pittsburgh, and I chose to use a metric that shows the locations of bike stations.\n",
    "\n",
    "## Metric\n",
    "\n",
    "My metric shows the locations of bike stations in Downtown Pittsburgh as well as how many racks there are. I plan on using this by determinging the best neighborhood by how many stations there are/racks available."
   ]
  }
 ],
 "metadata": {
  "kernelspec": {
   "display_name": "Python 3",
   "language": "python",
   "name": "python3"
  },
  "language_info": {
   "codemirror_mode": {
    "name": "ipython",
    "version": 3
   },
   "file_extension": ".py",
   "mimetype": "text/x-python",
   "name": "python",
   "nbconvert_exporter": "python",
   "pygments_lexer": "ipython3",
   "version": "3.8.3"
  }
 },
 "nbformat": 4,
 "nbformat_minor": 4
}
