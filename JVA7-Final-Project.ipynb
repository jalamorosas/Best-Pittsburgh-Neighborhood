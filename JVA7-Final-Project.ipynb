{
 "cells": [
  {
   "cell_type": "markdown",
   "metadata": {},
   "source": [
    "## Julian Alamo-Rosas Intro:\n",
    "\n",
    "https://data.wprdc.org/dataset/25-or-greater-slope\n",
    "\n",
    "My metric is about the slope of streets in Pittsburgh. The best neighborhood in my opinion would have streets that are not too steep to bike up and down. I believe in global warming and I believe one of the best ways to combat it is by biking instead of driving. It is easiest to bike when you live in a good neighborhood with under 25% slope. This also makes it a lot easier to walk around without tiring out."
   ]
  },
  {
   "cell_type": "code",
   "execution_count": null,
   "metadata": {},
   "outputs": [],
   "source": []
  }
 ],
 "metadata": {
  "kernelspec": {
   "display_name": "Python 3",
   "language": "python",
   "name": "python3"
  },
  "language_info": {
   "codemirror_mode": {
    "name": "ipython",
    "version": 3
   },
   "file_extension": ".py",
   "mimetype": "text/x-python",
   "name": "python",
   "nbconvert_exporter": "python",
   "pygments_lexer": "ipython3",
   "version": "3.8.3"
  }
 },
 "nbformat": 4,
 "nbformat_minor": 4
}
